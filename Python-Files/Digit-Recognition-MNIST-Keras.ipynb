{
 "cells": [
  {
   "cell_type": "markdown",
   "metadata": {},
   "source": [
    "### Digit Recognition on MNIST Data"
   ]
  },
  {
   "cell_type": "markdown",
   "metadata": {},
   "source": [
    "#### Load Data"
   ]
  },
  {
   "cell_type": "code",
   "execution_count": 14,
   "metadata": {},
   "outputs": [
    {
     "name": "stdout",
     "output_type": "stream",
     "text": [
      "Import Modules\n"
     ]
    }
   ],
   "source": [
    "# LOAD DATA\n",
    "# Import Modules\n",
    "import pickle\n",
    "import os\n",
    "import pickle\n",
    "import math\n",
    "import cv2\n",
    "import numpy as np\n",
    "import matplotlib.pyplot as plt\n",
    "import matplotlib.image as mpimg\n",
    "from scipy.signal import find_peaks_cwt\n",
    "import random\n",
    "from sklearn.utils import shuffle\n",
    "import csv\n",
    "import tensorflow as tf\n",
    "from tensorflow.contrib.layers import flatten\n",
    "from tensorflow.examples.tutorials.mnist import input_data\n",
    "import keras\n",
    "from keras.datasets import mnist\n",
    "from keras.models import Sequential,model_from_json\n",
    "from keras.layers import Dense,Dropout,Activation,Flatten\n",
    "from keras.layers import Convolution2D,MaxPooling2D\n",
    "from keras.layers import Flatten,Lambda,ELU\n",
    "from keras.optimizers import SGD,Adam,RMSprop\n",
    "from keras.utils import np_utils\n",
    "from keras.preprocessing.image import ImageDataGenerator\n",
    "%matplotlib inline\n",
    "\n",
    "print('Import Modules')"
   ]
  },
  {
   "cell_type": "code",
   "execution_count": 85,
   "metadata": {},
   "outputs": [],
   "source": [
    "# LOAD DATA\n",
    "# Load Test, Train Data\n",
    "(TrainX,TrainY),(TestX,TestY)=mnist.load_data()\n",
    "TrainX=TrainX.reshape(60000,784)\n",
    "TestX=TestX.reshape(10000,784)\n",
    "TrainY=keras.utils.to_categorical(TrainY,10)\n",
    "TestY=keras.utils.to_categorical(TestY,10)"
   ]
  },
  {
   "cell_type": "markdown",
   "metadata": {},
   "source": [
    "#### Data Exploration"
   ]
  },
  {
   "cell_type": "code",
   "execution_count": 86,
   "metadata": {},
   "outputs": [
    {
     "name": "stdout",
     "output_type": "stream",
     "text": [
      "[ 0.  0.  0.  0.  0.  0.  0.  0.  0.  1.]\n"
     ]
    },
    {
     "data": {
      "image/png": "[encoded data removed]",
      "text/plain": [
       "<matplotlib.figure.Figure at 0x7f2c8b243048>"
      ]
     },
     "metadata": {},
     "output_type": "display_data"
    }
   ],
   "source": [
    "# DATA EXPLORATION\n",
    "# Load a Random Image\n",
    "Index=random.randint(0,len(TrainX))\n",
    "Image=TrainX[Index]\n",
    "Image=Image.reshape((28,28))\n",
    "\n",
    "# Plot\n",
    "plt.figure(figsize=(5,5))\n",
    "plt.imshow(Image,cmap=\"gray\")\n",
    "print(TrainY[Index])"
   ]
  },
  {
   "cell_type": "markdown",
   "metadata": {},
   "source": [
    "#### DNN Model Architecture"
   ]
  },
  {
   "cell_type": "code",
   "execution_count": 87,
   "metadata": {},
   "outputs": [],
   "source": [
    "# DEFINE ARCHITECTURE\n",
    "# Set Epochs and Batch Size\n",
    "Epochs=15\n",
    "BatchSize=64"
   ]
  },
  {
   "cell_type": "code",
   "execution_count": 99,
   "metadata": {},
   "outputs": [
    {
     "name": "stdout",
     "output_type": "stream",
     "text": [
      "Model Design!\n",
      "_________________________________________________________________\n",
      "Layer (type)                 Output Shape              Param #   \n",
      "=================================================================\n",
      "dense_19 (Dense)             (None, 256)               200960    \n",
      "_________________________________________________________________\n",
      "dense_20 (Dense)             (None, 256)               65792     \n",
      "_________________________________________________________________\n",
      "dense_21 (Dense)             (None, 128)               32896     \n",
      "_________________________________________________________________\n",
      "dense_22 (Dense)             (None, 128)               16512     \n",
      "_________________________________________________________________\n",
      "dense_23 (Dense)             (None, 64)                8256      \n",
      "_________________________________________________________________\n",
      "dense_24 (Dense)             (None, 32)                2080      \n",
      "_________________________________________________________________\n",
      "dense_25 (Dense)             (None, 10)                330       \n",
      "=================================================================\n",
      "Total params: 326,826\n",
      "Trainable params: 326,826\n",
      "Non-trainable params: 0\n",
      "_________________________________________________________________\n"
     ]
    }
   ],
   "source": [
    "# TRAINING MODEL\n",
    "# Design the Model\n",
    "print('Model Design!')\n",
    "Model=Sequential()\n",
    "Model.add(Dense(units=256,activation=\"relu\",input_shape=(784,)))\n",
    "Model.add(Dense(units=256,activation=\"relu\"))\n",
    "Model.add(Dense(units=128,activation=\"relu\"))\n",
    "Model.add(Dense(units=128,activation=\"relu\"))\n",
    "Model.add(Dense(units=64,activation=\"relu\"))\n",
    "Model.add(Dense(units=32,activation=\"relu\"))\n",
    "Model.add(Dense(units=10,activation=\"softmax\"))\n",
    "\n",
    "# Print Model Summary\n",
    "Model.summary()"
   ]
  },
  {
   "cell_type": "markdown",
   "metadata": {},
   "source": [
    "#### Training and Evaluation"
   ]
  },
  {
   "cell_type": "code",
   "execution_count": 100,
   "metadata": {},
   "outputs": [
    {
     "name": "stdout",
     "output_type": "stream",
     "text": [
      "Epoch 1/15\n",
      "60000/60000 [==============================] - 5s 88us/step - loss: 0.5472 - acc: 0.8833\n",
      "Epoch 2/15\n",
      "60000/60000 [==============================] - 5s 83us/step - loss: 0.1623 - acc: 0.9544\n",
      "Epoch 3/15\n",
      "60000/60000 [==============================] - 5s 84us/step - loss: 0.1241 - acc: 0.9645\n",
      "Epoch 4/15\n",
      "60000/60000 [==============================] - 5s 83us/step - loss: 0.0974 - acc: 0.9716\n",
      "Epoch 5/15\n",
      "60000/60000 [==============================] - 5s 90us/step - loss: 0.0849 - acc: 0.9754\n",
      "Epoch 6/15\n",
      "60000/60000 [==============================] - 5s 84us/step - loss: 0.0810 - acc: 0.9771\n",
      "Epoch 7/15\n",
      "60000/60000 [==============================] - 5s 84us/step - loss: 0.0695 - acc: 0.9808\n",
      "Epoch 8/15\n",
      "60000/60000 [==============================] - 5s 81us/step - loss: 0.0587 - acc: 0.9831\n",
      "Epoch 9/15\n",
      "60000/60000 [==============================] - 5s 86us/step - loss: 0.0554 - acc: 0.9844\n",
      "Epoch 10/15\n",
      "60000/60000 [==============================] - 5s 86us/step - loss: 0.0478 - acc: 0.9869\n",
      "Epoch 11/15\n",
      "60000/60000 [==============================] - 5s 86us/step - loss: 0.0477 - acc: 0.9870\n",
      "Epoch 12/15\n",
      "60000/60000 [==============================] - 5s 85us/step - loss: 0.0383 - acc: 0.9894\n",
      "Epoch 13/15\n",
      "60000/60000 [==============================] - 5s 85us/step - loss: 0.0376 - acc: 0.9896\n",
      "Epoch 14/15\n",
      "60000/60000 [==============================] - 5s 85us/step - loss: 0.0371 - acc: 0.9905\n",
      "Epoch 15/15\n",
      "60000/60000 [==============================] - 5s 87us/step - loss: 0.0394 - acc: 0.9898\n",
      "10000/10000 [==============================] - 0s 41us/step\n",
      "Accuracy:  0.9798\n"
     ]
    }
   ],
   "source": [
    "# TRAINING MODEL\n",
    "# Compile Model using Adam Optimizer and Loss Computed by Categorical Cross-Entropy\n",
    "Model.compile(optimizer=Adam(0.001),loss='categorical_crossentropy',metrics=[\"accuracy\"])\n",
    "\n",
    "# Train the Model\n",
    "Model.fit(TrainX,TrainY,batch_size=BatchSize,epochs=Epochs,verbose=1)\n",
    "\n",
    "# Evaluate the Model\n",
    "Accuracy=Model.evaluate(x=TestX,y=TestY,batch_size=BatchSize)\n",
    "print(\"Accuracy: \",Accuracy[1])"
   ]
  },
  {
   "cell_type": "code",
   "execution_count": 101,
   "metadata": {},
   "outputs": [
    {
     "name": "stdout",
     "output_type": "stream",
     "text": [
      "Model Trained and Saved!\n"
     ]
    }
   ],
   "source": [
    "# TRAINING MODEL\n",
    "# Save the Model\n",
    "Model.save(\"MNIST-Model.h5\")\n",
    "\n",
    "print(\"Model Trained and Saved!\")"
   ]
  },
  {
   "cell_type": "markdown",
   "metadata": {},
   "source": [
    "#### Load Data"
   ]
  },
  {
   "cell_type": "code",
   "execution_count": 10,
   "metadata": {},
   "outputs": [],
   "source": [
    "(TrainX,TrainY),(TestX,TestY)=mnist.load_data()\n",
    "TrainX=TrainX.reshape(TrainX.shape[0],28,28,1)\n",
    "TestX=TestX.reshape(TestX.shape[0],28,28,1)\n",
    "TrainX=TrainX.astype('float32')\n",
    "TestX=TestX.astype('float32')\n",
    "TrainX/=255\n",
    "TestX/=255\n",
    "TrainY=np_utils.to_categorical(TrainY,10)\n",
    "TestY=np_utils.to_categorical(TestY,10)"
   ]
  },
  {
   "cell_type": "markdown",
   "metadata": {},
   "source": [
    "#### CNN Model Architecture"
   ]
  },
  {
   "cell_type": "code",
   "execution_count": 11,
   "metadata": {},
   "outputs": [
    {
     "name": "stdout",
     "output_type": "stream",
     "text": [
      "Model Design!\n",
      "_________________________________________________________________\n",
      "Layer (type)                 Output Shape              Param #   \n",
      "=================================================================\n",
      "conv2d_1 (Conv2D)            (None, 26, 26, 32)        320       \n",
      "_________________________________________________________________\n",
      "conv2d_2 (Conv2D)            (None, 24, 24, 32)        9248      \n",
      "_________________________________________________________________\n",
      "max_pooling2d_1 (MaxPooling2 (None, 12, 12, 32)        0         \n",
      "_________________________________________________________________\n",
      "dropout_1 (Dropout)          (None, 12, 12, 32)        0         \n",
      "_________________________________________________________________\n",
      "flatten_1 (Flatten)          (None, 4608)              0         \n",
      "_________________________________________________________________\n",
      "dense_6 (Dense)              (None, 128)               589952    \n",
      "_________________________________________________________________\n",
      "dropout_2 (Dropout)          (None, 128)               0         \n",
      "_________________________________________________________________\n",
      "dense_7 (Dense)              (None, 10)                1290      \n",
      "=================================================================\n",
      "Total params: 600,810\n",
      "Trainable params: 600,810\n",
      "Non-trainable params: 0\n",
      "_________________________________________________________________\n"
     ]
    },
    {
     "name": "stderr",
     "output_type": "stream",
     "text": [
      "/home/umer/Anaconda/envs/Udacity-Self-Driving-Car/lib/python3.5/site-packages/ipykernel_launcher.py:5: UserWarning: Update your `Conv2D` call to the Keras 2 API: `Conv2D(32, (3, 3), activation=\"relu\", input_shape=(28, 28, 1...)`\n",
      "  \"\"\"\n",
      "/home/umer/Anaconda/envs/Udacity-Self-Driving-Car/lib/python3.5/site-packages/ipykernel_launcher.py:6: UserWarning: Update your `Conv2D` call to the Keras 2 API: `Conv2D(32, (3, 3), activation=\"relu\")`\n",
      "  \n"
     ]
    }
   ],
   "source": [
    "# TRAINING MODEL\n",
    "# Design the Model\n",
    "print('Model Design!')\n",
    "ModelCNN=Sequential() \n",
    "ModelCNN.add(Convolution2D(32,3,3,activation='relu',input_shape=(28,28,1)))\n",
    "ModelCNN.add(Convolution2D(32,3,3,activation='relu'))\n",
    "ModelCNN.add(MaxPooling2D(pool_size=(2,2)))\n",
    "ModelCNN.add(Dropout(0.25))\n",
    "ModelCNN.add(Flatten())\n",
    "ModelCNN.add(Dense(128, activation='relu'))\n",
    "ModelCNN.add(Dropout(0.5))\n",
    "ModelCNN.add(Dense(10,activation='softmax'))\n",
    "\n",
    "# Print Model Summary\n",
    "ModelCNN.summary()"
   ]
  },
  {
   "cell_type": "markdown",
   "metadata": {},
   "source": [
    "#### Training and Evaluation"
   ]
  },
  {
   "cell_type": "code",
   "execution_count": 12,
   "metadata": {},
   "outputs": [
    {
     "name": "stdout",
     "output_type": "stream",
     "text": [
      "Epoch 1/15\n",
      "60000/60000 [==============================] - 62s 1ms/step - loss: 0.2274 - acc: 0.9297\n",
      "Epoch 2/15\n",
      "60000/60000 [==============================] - 59s 987us/step - loss: 0.0873 - acc: 0.9730\n",
      "Epoch 3/15\n",
      "60000/60000 [==============================] - 59s 978us/step - loss: 0.0679 - acc: 0.9792\n",
      "Epoch 4/15\n",
      "60000/60000 [==============================] - 62s 1ms/step - loss: 0.0549 - acc: 0.9836\n",
      "Epoch 5/15\n",
      "60000/60000 [==============================] - 58s 971us/step - loss: 0.0493 - acc: 0.9846\n",
      "Epoch 6/15\n",
      "60000/60000 [==============================] - 58s 971us/step - loss: 0.0424 - acc: 0.9867\n",
      "Epoch 7/15\n",
      "60000/60000 [==============================] - 59s 978us/step - loss: 0.0376 - acc: 0.9879\n",
      "Epoch 8/15\n",
      "60000/60000 [==============================] - 59s 988us/step - loss: 0.0341 - acc: 0.9891\n",
      "Epoch 9/15\n",
      "60000/60000 [==============================] - 62s 1ms/step - loss: 0.0324 - acc: 0.9897\n",
      "Epoch 10/15\n",
      "60000/60000 [==============================] - 63s 1ms/step - loss: 0.0293 - acc: 0.9909\n",
      "Epoch 11/15\n",
      "60000/60000 [==============================] - 62s 1ms/step - loss: 0.0257 - acc: 0.9913\n",
      "Epoch 12/15\n",
      "60000/60000 [==============================] - 63s 1ms/step - loss: 0.0255 - acc: 0.9918\n",
      "Epoch 13/15\n",
      "60000/60000 [==============================] - 66s 1ms/step - loss: 0.0229 - acc: 0.9922\n",
      "Epoch 14/15\n",
      "60000/60000 [==============================] - 64s 1ms/step - loss: 0.0223 - acc: 0.9928\n",
      "Epoch 15/15\n",
      "60000/60000 [==============================] - 63s 1ms/step - loss: 0.0211 - acc: 0.9928\n",
      "10000/10000 [==============================] - 3s 276us/step\n",
      "Accuracy:  0.9922\n"
     ]
    }
   ],
   "source": [
    "# TRAINING MODEL\n",
    "# Compile Model using Adam Optimizer and Loss Computed by Categorical Cross-Entropy\n",
    "ModelCNN.compile(optimizer=Adam(0.001),loss='categorical_crossentropy',metrics=[\"accuracy\"])\n",
    "\n",
    "# Train the Model\n",
    "ModelCNN.fit(TrainX,TrainY,batch_size=BatchSize,epochs=Epochs,verbose=1)\n",
    "\n",
    "# Evaluate the Model\n",
    "Accuracy=ModelCNN.evaluate(x=TestX,y=TestY,batch_size=BatchSize)\n",
    "print(\"Accuracy: \",Accuracy[1])"
   ]
  },
  {
   "cell_type": "markdown",
   "metadata": {},
   "source": [
    "#### Data Augmentation"
   ]
  },
  {
   "cell_type": "code",
   "execution_count": 15,
   "metadata": {},
   "outputs": [],
   "source": [
    "# DATA AUGMENTATION\n",
    "# Load Image Data Generator\n",
    "Datagen=ImageDataGenerator(\n",
    "        featurewise_center=False,  # Set Input Mean to 0 over the Dataset\n",
    "        samplewise_center=False,  # Set each Sample Mean to 0\n",
    "        featurewise_std_normalization=False,  # Divide Inputs by Standard Deviation of the Dataset\n",
    "        samplewise_std_normalization=False,  # Divide each Input by its Standard Deviation\n",
    "        zca_whitening=False,  # Apply ZCA Whitening\n",
    "        rotation_range=10,  # Randomly Rotate Images in the Range (Degrees, 0 to 180)\n",
    "        zoom_range = 0.1, # Randomly Zoom Image \n",
    "        width_shift_range=0.1,  # Randomly Shift Images Horizontally (Fraction of Total Width)\n",
    "        height_shift_range=0.1,  # Randomly Shift Images Vertically (Fraction of Total Height)\n",
    "        horizontal_flip=False,  # Randomly Flip Images\n",
    "        vertical_flip=False)  # Randomly Flip Images"
   ]
  },
  {
   "cell_type": "code",
   "execution_count": 19,
   "metadata": {},
   "outputs": [],
   "source": [
    "# DATA AUGMENTATION\n",
    "# Fit the Augmentation Model to Training Data\n",
    "Datagen.fit(TrainX)"
   ]
  },
  {
   "cell_type": "code",
   "execution_count": 64,
   "metadata": {},
   "outputs": [],
   "source": [
    "# DATA AUGMENTATION\n",
    "# Create New Training Data\n",
    "AugTrainX,AugTrainY=Datagen.flow(TrainX,TrainY,batch_size=60000).next()"
   ]
  },
  {
   "cell_type": "code",
   "execution_count": 77,
   "metadata": {},
   "outputs": [],
   "source": [
    "# DATA AUGMENTATION\n",
    "# Augment Training Data for Images and Labels\n",
    "X=np.concatenate((TrainX,AugTrainX), axis=0)\n",
    "Y=np.concatenate((TrainY,AugTrainY),axis=0)"
   ]
  },
  {
   "cell_type": "markdown",
   "metadata": {},
   "source": [
    "#### Training and Evaluation"
   ]
  },
  {
   "cell_type": "code",
   "execution_count": 83,
   "metadata": {},
   "outputs": [
    {
     "name": "stdout",
     "output_type": "stream",
     "text": [
      "Epoch 1/15\n",
      "120000/120000 [==============================] - 122s 1ms/step - loss: 0.0664 - acc: 0.9803\n",
      "Epoch 2/15\n",
      "120000/120000 [==============================] - 122s 1ms/step - loss: 0.0558 - acc: 0.9830\n",
      "Epoch 3/15\n",
      "120000/120000 [==============================] - 116s 968us/step - loss: 0.0489 - acc: 0.9846\n",
      "Epoch 4/15\n",
      "120000/120000 [==============================] - 118s 987us/step - loss: 0.0442 - acc: 0.9860\n",
      "Epoch 5/15\n",
      "120000/120000 [==============================] - 117s 979us/step - loss: 0.0390 - acc: 0.9874\n",
      "Epoch 6/15\n",
      "120000/120000 [==============================] - 116s 971us/step - loss: 0.0371 - acc: 0.9881\n",
      "Epoch 7/15\n",
      "120000/120000 [==============================] - 120s 997us/step - loss: 0.0355 - acc: 0.9885\n",
      "Epoch 8/15\n",
      "120000/120000 [==============================] - 117s 977us/step - loss: 0.0332 - acc: 0.9891\n",
      "Epoch 9/15\n",
      "120000/120000 [==============================] - 120s 1ms/step - loss: 0.0324 - acc: 0.9895\n",
      "Epoch 10/15\n",
      "120000/120000 [==============================] - 120s 996us/step - loss: 0.0297 - acc: 0.9902\n",
      "Epoch 11/15\n",
      "120000/120000 [==============================] - 125s 1ms/step - loss: 0.0295 - acc: 0.9905\n",
      "Epoch 12/15\n",
      "120000/120000 [==============================] - 123s 1ms/step - loss: 0.0270 - acc: 0.9910\n",
      "Epoch 13/15\n",
      "120000/120000 [==============================] - 124s 1ms/step - loss: 0.0270 - acc: 0.9915\n",
      "Epoch 14/15\n",
      "120000/120000 [==============================] - 123s 1ms/step - loss: 0.0275 - acc: 0.9910\n",
      "Epoch 15/15\n",
      "120000/120000 [==============================] - 124s 1ms/step - loss: 0.0255 - acc: 0.9915\n",
      "10000/10000 [==============================] - 3s 283us/step\n",
      "Accuracy:  0.9958\n"
     ]
    }
   ],
   "source": [
    "# Train the Model\n",
    "ModelCNN.fit(X,Y,batch_size=BatchSize,epochs=Epochs,verbose=1)\n",
    "\n",
    "# Evaluate the Model\n",
    "Accuracy=ModelCNN.evaluate(x=TestX,y=TestY,batch_size=BatchSize)\n",
    "print(\"Accuracy: \",Accuracy[1])"
   ]
  }
 ],
 "metadata": {
  "kernelspec": {
   "display_name": "Python (Udacity-Self-Drivng-Car)",
   "language": "python",
   "name": "udacity-self-driving-car"
  },
  "language_info": {
   "codemirror_mode": {
    "name": "ipython",
    "version": 3
   },
   "file_extension": ".py",
   "mimetype": "text/x-python",
   "name": "python",
   "nbconvert_exporter": "python",
   "pygments_lexer": "ipython3",
   "version": "3.5.4"
  }
 },
 "nbformat": 4,
 "nbformat_minor": 2
}
